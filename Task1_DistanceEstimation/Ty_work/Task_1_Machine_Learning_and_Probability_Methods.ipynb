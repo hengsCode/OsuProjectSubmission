{
 "cells": [
  {
   "cell_type": "markdown",
   "metadata": {},
   "source": [
    "# Distance_detection_method\n"
   ]
  },
  {
   "cell_type": "code",
   "execution_count": 175,
   "metadata": {},
   "outputs": [],
   "source": [
    "%matplotlib inline\n",
    "import numpy as np\n",
    "import cv2\n",
    "from velocity import VeloEval\n",
    "import copy\n",
    "import math\n",
    "from sklearn.utils import shuffle\n",
    "import matplotlib.pyplot as plt\n",
    "from sklearn import preprocessing, datasets, linear_model\n",
    "from sklearn.metrics import mean_squared_error, r2_score\n",
    "from sklearn.model_selection import train_test_split\n",
    "import math\n",
    "import os\n"
   ]
  },
  {
   "cell_type": "code",
   "execution_count": 158,
   "metadata": {},
   "outputs": [
    {
     "name": "stdout",
     "output_type": "stream",
     "text": [
      "Finished loading 1074 annotations.\n"
     ]
    }
   ],
   "source": [
    "dataset_path = 'benchmark_velocity_train/clips/'\n",
    "folder_path = os.listdir(dataset_path)\n",
    "\n",
    "annotations = [os.path.join(dataset_path, x, 'annotation.json') for x in folder_path]\n",
    "annotations.remove('benchmark_velocity_train/clips/.DS_Store/annotation.json')\n",
    "annotations.sort() #sort it so that we can read images in order\n",
    "gt = VeloEval.load_annotation(annotations)\n"
   ]
  },
  {
   "cell_type": "code",
   "execution_count": 159,
   "metadata": {},
   "outputs": [
    {
     "data": {
      "text/plain": [
       "1074"
      ]
     },
     "execution_count": 159,
     "metadata": {},
     "output_type": "execute_result"
    }
   ],
   "source": [
    "images_training_paths = []\n",
    "for x in folder_path:\n",
    "    image_path = \"benchmark_velocity_train/clips/\"+x+\"/imgs/040.jpg\"\n",
    "    images_training_paths.append(image_path)\n",
    "images_training_paths.remove('benchmark_velocity_train/clips/.DS_Store/imgs/040.jpg')\n",
    "images_training_paths.sort()\n",
    "len(images_training_paths)"
   ]
  },
  {
   "cell_type": "code",
   "execution_count": 242,
   "metadata": {},
   "outputs": [
    {
     "data": {
      "text/plain": [
       "269"
      ]
     },
     "execution_count": 242,
     "metadata": {},
     "output_type": "execute_result"
    }
   ],
   "source": [
    "dataset_path_t = 'benchmark_velocity_test/clips/'\n",
    "folder_path_t = os.listdir(dataset_path_t)\n",
    "\n",
    "annotations_t = [os.path.join('.','gt.json')]\n",
    "#annotations_t.remove('benchmark_velocity_test/clips/.DS_Store/annotation.json')\n",
    "#annotations_t.sort() #sort it so that we can read images in order\n",
    "gt_t = VeloEval.load_json_file(annotations_t)[0]\n",
    "len(gt_t)"
   ]
  },
  {
   "cell_type": "code",
   "execution_count": 239,
   "metadata": {},
   "outputs": [
    {
     "data": {
      "text/plain": [
       "269"
      ]
     },
     "execution_count": 239,
     "metadata": {},
     "output_type": "execute_result"
    }
   ],
   "source": [
    "images_testing_paths = []\n",
    "for x in folder_path_t:\n",
    "    image_path = \"benchmark_velocity_test/clips/\"+x+\"/imgs/040.jpg\"\n",
    "    images_testing_paths.append(image_path)\n",
    "images_testing_paths.remove('benchmark_velocity_test/clips/.DS_Store/imgs/040.jpg')\n",
    "images_testing_paths.sort()\n",
    "len(images_testing_paths)"
   ]
  },
  {
   "cell_type": "code",
   "execution_count": 399,
   "metadata": {},
   "outputs": [
    {
     "data": {
      "text/plain": [
       "[{'velocity': [-0.9686020636, -0.0679646536],\n",
       "  'bbox': {'top': 345.3848571777,\n",
       "   'right': 828.7849731445,\n",
       "   'left': 756.0120849609,\n",
       "   'bottom': 388.9237670898},\n",
       "  'position': [23.4500563918, 2.2509998609]}]"
      ]
     },
     "execution_count": 399,
     "metadata": {},
     "output_type": "execute_result"
    }
   ],
   "source": [
    "gt_t[10]"
   ]
  },
  {
   "cell_type": "markdown",
   "metadata": {},
   "source": [
    "## Expr 1: try features, x1, y1, pixel_w, pixel_h and predict w, and then apply triangle similarity"
   ]
  },
  {
   "cell_type": "code",
   "execution_count": 400,
   "metadata": {},
   "outputs": [],
   "source": [
    "def get_v(flag, gt):\n",
    "    if flag == 0:\n",
    "        #testing data\n",
    "        y1 = gt['bbox']['top']\n",
    "        x2 = gt['bbox']['right']\n",
    "        x1 = gt['bbox']['left']\n",
    "        y2 = gt['bbox']['bottom']\n",
    "        z0 = gt['position'][0]\n",
    "        x0 = gt['position'][1]\n",
    "    else:\n",
    "        #training\n",
    "        y1 = gt['bbox'][0][0]\n",
    "        x1 = gt['bbox'][0][1]\n",
    "        y2 = gt['bbox'][0][2]\n",
    "        x2 = gt['bbox'][0][3]\n",
    "        z0 = gt['position'][0]\n",
    "        x0 = gt['position'][1]\n",
    "    return (x1,x2,y1,y2,z0,x0)\n",
    "        \n",
    "        "
   ]
  },
  {
   "cell_type": "code",
   "execution_count": 401,
   "metadata": {},
   "outputs": [],
   "source": [
    "def get_car_width(gt,flag=1):\n",
    "    '''Input is a image and the ground truth of this image that includes the position and bbox of cars.\n",
    "    There could be more than one cars.\n",
    "    Output is weights list of all cars detected in the input image'''\n",
    "   \n",
    "    feature_list = []\n",
    "    fx = 714.1526\n",
    "    \n",
    "    for i in range(len(gt)):\n",
    "        if flag == 0:\n",
    "            x1,x2,y1,y2 = get_v(0,gt[i])[0:4]\n",
    "        else:\n",
    "            x1,x2,y1,y2 = get_v(1,gt[i])[0:4]\n",
    "\n",
    "\n",
    "        #print(gt)\n",
    "        z0 = int(gt[i]['position'][0])\n",
    "        pixel_w = x2 - x1\n",
    "        pixel_h = y2 - y1\n",
    "\n",
    "        #pixel_h = y2 - y1\n",
    "        w = (pixel_w * z0)/fx\n",
    "        feature_list.append([x1,y1,pixel_w,pixel_h,w])\n",
    "\n",
    "        \n",
    "    return feature_list\n"
   ]
  },
  {
   "cell_type": "code",
   "execution_count": 402,
   "metadata": {},
   "outputs": [
    {
     "data": {
      "text/plain": [
       "[[784.6638793945,\n",
       "  340.3418273926,\n",
       "  83.48986816410002,\n",
       "  52.985687255799974,\n",
       "  2.455059648940717],\n",
       " [650.6055908203,\n",
       "  347.4986877441,\n",
       "  35.13989257809999,\n",
       "  27.825439453200033,\n",
       "  1.771380700443574],\n",
       " [648.2036132812,\n",
       "  345.9122314453,\n",
       "  34.08062744150004,\n",
       "  26.833465576200012,\n",
       "  1.717983786510056],\n",
       " [924.3724975586,\n",
       "  315.0008850098,\n",
       "  333.3609008789,\n",
       "  205.1636047363,\n",
       "  2.333961263173305],\n",
       " [622.0191040039,\n",
       "  339.5474853516,\n",
       "  31.20141601559999,\n",
       "  25.246826171799967,\n",
       "  2.3155765992125485]]"
      ]
     },
     "execution_count": 402,
     "metadata": {},
     "output_type": "execute_result"
    }
   ],
   "source": [
    "all_list = [] #this records all the weights in training data\n",
    "\n",
    "for i in range(len(images_training_paths)):\n",
    "    gt_temp = gt[i]\n",
    "    cars_info = get_car_width(gt_temp)\n",
    "    all_list.extend(cars_info)\n",
    "all_list[:5]"
   ]
  },
  {
   "cell_type": "code",
   "execution_count": 403,
   "metadata": {},
   "outputs": [],
   "source": [
    "training_data = np.asarray(all_list)\n",
    "train_x = training_data[:,0:4]\n",
    "train_y = training_data[:,4]"
   ]
  },
  {
   "cell_type": "code",
   "execution_count": 404,
   "metadata": {},
   "outputs": [],
   "source": [
    "all_testing_list = [] #this records all the weights in training data\n",
    "\n",
    "for i in range(len(images_testing_paths)):\n",
    "    gt_temp = gt_t[i]\n",
    "    #print(gt_temp)\n",
    "    cars_info = get_car_width(gt_temp,0)\n",
    "    #print(cars_info)\n",
    "    all_testing_list.extend(cars_info)\n"
   ]
  },
  {
   "cell_type": "code",
   "execution_count": 405,
   "metadata": {},
   "outputs": [
    {
     "data": {
      "text/plain": [
       "[[509.4688110352,\n",
       "  341.8059692383,\n",
       "  59.577270507799994,\n",
       "  42.200958251899976,\n",
       "  2.419288041136026],\n",
       " [755.4901733398,\n",
       "  334.7809143066,\n",
       "  71.58563232430004,\n",
       "  50.512664795000035,\n",
       "  2.4057255771150325],\n",
       " [673.6825561523,\n",
       "  345.3791503906,\n",
       "  35.51818847660002,\n",
       "  27.966430664100017,\n",
       "  1.8401850999831137],\n",
       " [614.9835205078,\n",
       "  343.7766113281,\n",
       "  32.9028930664,\n",
       "  24.905639648500028,\n",
       "  2.1193412739159667],\n",
       " [564.3881225586,\n",
       "  339.0909729004,\n",
       "  64.3133544922,\n",
       "  51.0140991211,\n",
       "  2.1613314966756407]]"
      ]
     },
     "execution_count": 405,
     "metadata": {},
     "output_type": "execute_result"
    }
   ],
   "source": [
    "all_testing_list[:5]"
   ]
  },
  {
   "cell_type": "code",
   "execution_count": 406,
   "metadata": {},
   "outputs": [],
   "source": [
    "testing_data = np.asarray(all_testing_list)\n",
    "test_x = testing_data[:,0:4]\n",
    "test_y = testing_data[:,4]"
   ]
  },
  {
   "cell_type": "code",
   "execution_count": 407,
   "metadata": {},
   "outputs": [
    {
     "data": {
      "text/plain": [
       "LinearRegression()"
      ]
     },
     "execution_count": 407,
     "metadata": {},
     "output_type": "execute_result"
    }
   ],
   "source": [
    "regr = linear_model.LinearRegression()\n",
    "regr.fit(train_x,train_y)"
   ]
  },
  {
   "cell_type": "code",
   "execution_count": 408,
   "metadata": {},
   "outputs": [
    {
     "name": "stdout",
     "output_type": "stream",
     "text": [
      "Coefficients:  -0.000370201424067597 14.252734275136223\n",
      "Mean squared error: 0.04\n"
     ]
    }
   ],
   "source": [
    "#Predict the targets\n",
    "predicted_y =regr.predict(test_x)\n",
    "\n",
    "#Output the coefficient\n",
    "print('Coefficients: ', regr.coef_[0], regr.intercept_)\n",
    "#Calculate the Mean Squared Error\n",
    "mse = np.mean((predicted_y - test_y) ** 2)\n",
    "print (\"Mean squared error: %.2f\" % mse)"
   ]
  },
  {
   "cell_type": "code",
   "execution_count": 409,
   "metadata": {},
   "outputs": [
    {
     "data": {
      "text/plain": [
       "(-0.000370201424067597,\n",
       " -0.03435506853204499,\n",
       " 0.02162694987625107,\n",
       " -0.03347930649287277,\n",
       " 14.252734275136223)"
      ]
     },
     "execution_count": 409,
     "metadata": {},
     "output_type": "execute_result"
    }
   ],
   "source": [
    "regr.coef_[0],regr.coef_[1],regr.coef_[2],regr.coef_[3],regr.intercept_"
   ]
  },
  {
   "cell_type": "code",
   "execution_count": 410,
   "metadata": {},
   "outputs": [
    {
     "data": {
      "text/plain": [
       "(array([2.19697653, 2.32867938, 1.96966503, 2.09236313, 2.07728841,\n",
       "        1.97771741, 2.19225128, 1.89948709, 2.10076575, 2.5751089 ]),\n",
       " array([2.41928804, 2.40572558, 1.8401851 , 2.11934127, 2.1613315 ,\n",
       "        1.82188188, 2.22905938, 1.69564046, 1.98705781, 2.78285763]),\n",
       " array([[509.46881104, 341.80596924,  59.57727051,  42.20095825],\n",
       "        [755.49017334, 334.78091431,  71.58563232,  50.5126648 ],\n",
       "        [673.68255615, 345.37915039,  35.51818848,  27.96643066],\n",
       "        [614.98352051, 343.77661133,  32.90289307,  24.90563965],\n",
       "        [564.38812256, 339.0909729 ,  64.31335449,  51.01409912],\n",
       "        [671.20300293, 345.68673706,  26.02203369,  21.30337524],\n",
       "        [575.43719482, 344.18261719,  31.21350098,  20.85140991],\n",
       "        [687.64801025, 345.7272644 ,  44.84985352,  35.57901001],\n",
       "        [745.90063477, 341.47943115,  35.4765625 ,  27.22683716],\n",
       "        [795.46112061, 332.74090576, 110.41027832,  69.8833313 ]]))"
      ]
     },
     "execution_count": 410,
     "metadata": {},
     "output_type": "execute_result"
    }
   ],
   "source": [
    "predicted_y[0:10],test_y[0:10],test_x[0:10]"
   ]
  },
  {
   "cell_type": "code",
   "execution_count": 411,
   "metadata": {},
   "outputs": [
    {
     "data": {
      "text/plain": [
       "2.307325904669966"
      ]
     },
     "execution_count": 411,
     "metadata": {},
     "output_type": "execute_result"
    }
   ],
   "source": [
    "784 * (-0.00037590283643064296) + (-0.03446663268860189) * 340 + 0.021661369247535468 * 84 -0.033546266089523366 * 53 +14.279085928507993"
   ]
  },
  {
   "cell_type": "markdown",
   "metadata": {},
   "source": []
  },
  {
   "cell_type": "code",
   "execution_count": 415,
   "metadata": {},
   "outputs": [],
   "source": [
    "def predict_distance_5(gt,flag = 1):\n",
    "    '''Input is a image and the ground truth of this image that includes the position and bbox of cars.\n",
    "    There could be more than one cars. The cdf of training data and corresponding weights bins\n",
    "    Output is the difference between the ground truth position and the predicted position'''\n",
    "\n",
    "    good_z0 = 0\n",
    "    good_x0 = 0\n",
    "    \n",
    "    diff_list = []\n",
    "    diff_x0_list = []\n",
    "    fx = 714.1526\n",
    "\n",
    "    for i in range(len(gt)):\n",
    "        if flag == 0: #testing data\n",
    "            x1,x2,y1,y2,z0,x0 = get_v(0,gt[i])\n",
    "        else:#training data\n",
    "            x1,x2,y1,y2,z0,x0 = get_v(1,gt[i])\n",
    "\n",
    "\n",
    "        pixel_w = x2 - x1\n",
    "        pixel_h = y2 - y1\n",
    "        w = -0.000370201424067597 * x1-0.03435506853204499 * y1 + 0.02162694987625107 * pixel_w -0.03347930649287277 * pixel_h + 14.252734275136223\n",
    "        '''(-0.000370201424067597,\n",
    "            -0.03435506853204499,\n",
    "            0.02162694987625107,\n",
    "            -0.03347930649287277,\n",
    "            14.252734275136223)'''\n",
    "\n",
    "        pred_z0 = fx * w / pixel_w\n",
    "        pred_x0 = (x1 - 660) * pred_z0/fx\n",
    "        diff_x0 = x0 - pred_x0\n",
    "        diff_z0 = z0-pred_z0\n",
    "\n",
    "        if abs(diff_z0)/z0 < 0.10:\n",
    "            good_z0 +=1\n",
    "        if abs(diff_x0)/x0 < 0.10:\n",
    "            good_x0 +=1\n",
    "\n",
    "\n",
    "\n",
    "        diff_x0_list.append(abs(diff_x0))\n",
    "        diff_list.append(abs(diff_z0))\n",
    "\n",
    "\n",
    "    return (diff_list,diff_x0_list,good_z0, good_x0)\n",
    "       \n"
   ]
  },
  {
   "cell_type": "code",
   "execution_count": 416,
   "metadata": {},
   "outputs": [
    {
     "name": "stdout",
     "output_type": "stream",
     "text": [
      "EXPR 1/10 Train_set: AVG Error Z0 2.53, Distance_within_10%_diff_rate: 73.79%, AVG Error X0 0.68, X0_within_10%_rate:72.54%\n"
     ]
    }
   ],
   "source": [
    "diff = []\n",
    "diff_x0 = []\n",
    "count_z0 = 0\n",
    "count_x0 = 0\n",
    "for i in range(len(images_training_paths)):\n",
    "    gt_temp = gt[i]\n",
    "    cars_info = predict_distance_5(gt_temp,1)\n",
    "\n",
    "    diff.extend(cars_info[0])\n",
    "    diff_x0.extend(cars_info[1])\n",
    "    count_z0 += cars_info[2]\n",
    "    count_x0 += cars_info[3]\n",
    "\n",
    "print(\"EXPR {0}/10 Train_set: AVG Error Z0 {1:.2f}, Distance_within_10%_diff_rate: {2:.2f}%, AVG Error X0 {3:.2f}, X0_within_10%_rate:{4:.2f}%\".format(1,np.average(diff),100 * count_z0/len(diff),np.average(diff_x0),100 * count_x0/len(diff_x0)))\n",
    "\n"
   ]
  },
  {
   "cell_type": "code",
   "execution_count": 417,
   "metadata": {},
   "outputs": [
    {
     "name": "stdout",
     "output_type": "stream",
     "text": [
      "EXPR 1/10 Test_set: AVG Error Z0 2.62, Distance_within_10%_rate: 72.00%, AVG Error X0 0.72, X0_within_10%_rate:70.93%\n"
     ]
    }
   ],
   "source": [
    "diff = []\n",
    "diff_x0 = []\n",
    "count_z0 = 0\n",
    "count_x0 = 0\n",
    "for i in range(len(images_testing_paths)):\n",
    "    gt_temp = gt_t[i]\n",
    "    cars_info = predict_distance_5(gt_temp,0)\n",
    "    diff.extend(cars_info[0])\n",
    "    diff_x0.extend(cars_info[1])\n",
    "    count_z0 += cars_info[2]\n",
    "    count_x0 += cars_info[3]\n",
    "\n",
    "print(\"EXPR {0}/10 Test_set: AVG Error Z0 {1:.2f}, Distance_within_10%_rate: {2:.2f}%, AVG Error X0 {3:.2f}, X0_within_10%_rate:{4:.2f}%\".format(1,np.average(diff),100 * count_z0/len(diff),np.average(diff_x0),100 * count_x0/len(diff_x0)))\n",
    "\n"
   ]
  },
  {
   "cell_type": "markdown",
   "metadata": {},
   "source": [
    "## Expr 2: using y1, pixel_w, piexel_h, pixel_w * pixel_h to predict w and then apply triangle similarity\n",
    "- Rationale: based on the coefficients obtained above, it seems that x1 has tiny influence on the result. But we can try using pixel_w and pixel_h which indicates the bbox area as a new feature"
   ]
  },
  {
   "cell_type": "code",
   "execution_count": 430,
   "metadata": {},
   "outputs": [],
   "source": [
    "def get_car_width_2(gt,flag=1):\n",
    "    '''Input is a image and the ground truth of this image that includes the position and bbox of cars.\n",
    "    There could be more than one cars.\n",
    "    Output is weights list of all cars detected in the input image'''\n",
    "   \n",
    "    feature_list = []\n",
    "    fx = 714.1526\n",
    "    \n",
    "    for i in range(len(gt)):\n",
    "        if flag == 0:\n",
    "            x1,x2,y1,y2 = get_v(0,gt[i])[0:4]\n",
    "        else:\n",
    "            x1,x2,y1,y2 = get_v(1,gt[i])[0:4]\n",
    "\n",
    "\n",
    "        #print(gt)\n",
    "        z0 = int(gt[i]['position'][0])\n",
    "        pixel_w = x2 - x1\n",
    "        pixel_h = y2 - y1\n",
    "\n",
    "        #pixel_h = y2 - y1\n",
    "        w = (pixel_w * z0)/fx\n",
    "        feature_list.append([y1,pixel_w,pixel_h,pixel_w*pixel_h,w])\n",
    "\n",
    "        \n",
    "    return feature_list\n",
    "\n",
    "\n",
    "\n",
    "\n"
   ]
  },
  {
   "cell_type": "code",
   "execution_count": 431,
   "metadata": {},
   "outputs": [],
   "source": [
    "all_list_2 = [] #this records all the weights in training data\n",
    "\n",
    "for i in range(len(images_training_paths)):\n",
    "    gt_temp = gt[i]\n",
    "    cars_info = get_car_width_2(gt_temp)\n",
    "    all_list_2.extend(cars_info)\n"
   ]
  },
  {
   "cell_type": "code",
   "execution_count": 432,
   "metadata": {},
   "outputs": [
    {
     "data": {
      "text/plain": [
       "(array([[3.40341827e+02, 8.34898682e+01, 5.29856873e+01, 4.42376804e+03],\n",
       "        [3.47498688e+02, 3.51398926e+01, 2.78254395e+01, 9.77782953e+02],\n",
       "        [3.45912231e+02, 3.40806274e+01, 2.68334656e+01, 9.14501343e+02],\n",
       "        [3.15000885e+02, 3.33360901e+02, 2.05163605e+02, 6.83935241e+04],\n",
       "        [3.39547485e+02, 3.12014160e+01, 2.52468262e+01, 7.87736726e+02]]),\n",
       " array([2.45505965, 1.7713807 , 1.71798379, 2.33396126, 2.3155766 ]))"
      ]
     },
     "execution_count": 432,
     "metadata": {},
     "output_type": "execute_result"
    }
   ],
   "source": [
    "training_data_2 = np.asarray(all_list_2)\n",
    "train_x_2 = training_data_2[:,0:4]\n",
    "train_y_2 = training_data_2[:,4]\n",
    "train_x_2[0:5],train_y_2[0:5]"
   ]
  },
  {
   "cell_type": "code",
   "execution_count": 433,
   "metadata": {},
   "outputs": [],
   "source": [
    "all_testing_list_2 = [] #this records all the weights in training data\n",
    "\n",
    "for i in range(len(images_testing_paths)):\n",
    "    gt_temp = gt_t[i]\n",
    "    cars_info = get_car_width_2(gt_temp,0)\n",
    "    all_testing_list_2.extend(cars_info)"
   ]
  },
  {
   "cell_type": "code",
   "execution_count": 434,
   "metadata": {},
   "outputs": [
    {
     "data": {
      "text/plain": [
       "(array([[ 341.80596924,   59.57727051,   42.20095825, 2514.21790546],\n",
       "        [ 334.78091431,   71.58563232,   50.5126648 , 3615.98104974],\n",
       "        [ 345.37915039,   35.51818848,   27.96643066,  993.31695535],\n",
       "        [ 343.77661133,   32.90289307,   24.90563965,  819.4675981 ],\n",
       "        [ 339.0909729 ,   64.31335449,   51.01409912, 3280.88784088]]),\n",
       " array([2.41928804, 2.40572558, 1.8401851 , 2.11934127, 2.1613315 ]))"
      ]
     },
     "execution_count": 434,
     "metadata": {},
     "output_type": "execute_result"
    }
   ],
   "source": [
    "testing_data_2 = np.asarray(all_testing_list_2)\n",
    "test_x_2 = testing_data_2[:,0:4]\n",
    "test_y_2 = testing_data_2[:,4]\n",
    "test_x_2[0:5],test_y_2[0:5]"
   ]
  },
  {
   "cell_type": "code",
   "execution_count": 435,
   "metadata": {},
   "outputs": [
    {
     "data": {
      "text/plain": [
       "((375,), (375, 4))"
      ]
     },
     "execution_count": 435,
     "metadata": {},
     "output_type": "execute_result"
    }
   ],
   "source": [
    "test_y_2.shape,test_x_2.shape"
   ]
  },
  {
   "cell_type": "code",
   "execution_count": 436,
   "metadata": {},
   "outputs": [
    {
     "name": "stdout",
     "output_type": "stream",
     "text": [
      "Coefficients:  -0.030522707866872622 12.566680966429356\n",
      "Mean squared error: 0.04\n"
     ]
    }
   ],
   "source": [
    "regr_2 = linear_model.LinearRegression()\n",
    "regr_2.fit(train_x_2,train_y_2)\n",
    "#Predict the targets\n",
    "predicted_y_2 =regr_2.predict(test_x_2)\n",
    "\n",
    "#Output the coefficient\n",
    "print('Coefficients: ', regr_2.coef_[0], regr_2.intercept_)\n",
    "#Calculate the Mean Squared Error\n",
    "mse_2 = np.mean((predicted_y_2 - test_y_2) ** 2)\n",
    "print (\"Mean squared error: %.2f\" % mse_2)\n"
   ]
  },
  {
   "cell_type": "code",
   "execution_count": 437,
   "metadata": {},
   "outputs": [
    {
     "data": {
      "text/plain": [
       "(-0.030522707866872622,\n",
       " 0.019645624118997243,\n",
       " -0.026543674714586008,\n",
       " -1.3394041753397261e-05,\n",
       " 12.566680966429356)"
      ]
     },
     "execution_count": 437,
     "metadata": {},
     "output_type": "execute_result"
    }
   ],
   "source": [
    "regr_2.coef_[0],regr_2.coef_[1],regr_2.coef_[2],regr_2.coef_[3],regr_2.intercept_"
   ]
  },
  {
   "cell_type": "code",
   "execution_count": 438,
   "metadata": {},
   "outputs": [
    {
     "data": {
      "text/plain": [
       "(array([2.15042583, 2.365381  , 1.96691467, 2.04802258, 2.08213625]),\n",
       " array([2.41928804, 2.40572558, 1.8401851 , 2.11934127, 2.1613315 ]),\n",
       " array([[ 341.80596924,   59.57727051,   42.20095825, 2514.21790546],\n",
       "        [ 334.78091431,   71.58563232,   50.5126648 , 3615.98104974],\n",
       "        [ 345.37915039,   35.51818848,   27.96643066,  993.31695535],\n",
       "        [ 343.77661133,   32.90289307,   24.90563965,  819.4675981 ],\n",
       "        [ 339.0909729 ,   64.31335449,   51.01409912, 3280.88784088]]))"
      ]
     },
     "execution_count": 438,
     "metadata": {},
     "output_type": "execute_result"
    }
   ],
   "source": [
    "predicted_y_2[0:5],test_y_2[0:5],test_x_2[0:5]"
   ]
  },
  {
   "cell_type": "code",
   "execution_count": 471,
   "metadata": {},
   "outputs": [],
   "source": [
    "def predict_distance_6(gt,p = 670,flag = 1):\n",
    "    '''Input is a image and the ground truth of this image that includes the position and bbox of cars.\n",
    "    There could be more than one cars. The cdf of training data and corresponding weights bins\n",
    "    Output is the difference between the ground truth position and the predicted position'''\n",
    "\n",
    "    good_z0 = 0\n",
    "    good_x0 = 0\n",
    "    \n",
    "    diff_list = []\n",
    "    diff_x0_list = []\n",
    "    fx = 714.1526\n",
    "\n",
    "    for i in range(len(gt)):\n",
    "        if flag == 0: #testing data\n",
    "            x1,x2,y1,y2,z0,x0 = get_v(0,gt[i])\n",
    "        else:#training data\n",
    "            x1,x2,y1,y2,z0,x0 = get_v(1,gt[i])\n",
    "\n",
    "\n",
    "        pixel_w = x2 - x1\n",
    "        pixel_h = y2 - y1\n",
    "        w = -0.030522707866872622 * y1 + 0.019645624118997243 * pixel_w -0.026543674714586008* pixel_h + -1.3394041753397261e-05 * pixel_w * pixel_h+ 12.566680966429356\n",
    "        '''(-0.030522707866872622,\n",
    "             0.019645624118997243,\n",
    "             -0.026543674714586008,\n",
    "             -1.3394041753397261e-05,\n",
    "             12.566680966429356)'''\n",
    "\n",
    "        pred_z0 = fx * w / pixel_w\n",
    "        pred_x0 = (x1 - p) * pred_z0/fx\n",
    "        diff_x0 = x0 - pred_x0\n",
    "        diff_z0 = z0-pred_z0\n",
    "\n",
    "        if abs(diff_z0)/z0 < 0.10:\n",
    "            good_z0 +=1\n",
    "        if abs(diff_x0)/x0 < 0.10:\n",
    "            good_x0 +=1\n",
    "\n",
    "\n",
    "\n",
    "        diff_x0_list.append(abs(diff_x0))\n",
    "        diff_list.append(abs(diff_z0))\n",
    "\n",
    "\n",
    "    return (diff_list,diff_x0_list,good_z0, good_x0)\n",
    "       "
   ]
  },
  {
   "cell_type": "code",
   "execution_count": 472,
   "metadata": {},
   "outputs": [
    {
     "name": "stdout",
     "output_type": "stream",
     "text": [
      "EXPR 2/10 Train_set: AVG Error Z0 2.46, Distance_within_10%_diff_rate: 75.94%, AVG Error X0 32.77, X0_within_10%_rate:64.84%\n"
     ]
    }
   ],
   "source": [
    "diff = []\n",
    "diff_x0 = []\n",
    "count_z0 = 0\n",
    "count_x0 = 0\n",
    "for i in range(len(images_training_paths)):\n",
    "    gt_temp = gt[i]\n",
    "    cars_info = predict_distance_6(gt_temp,1)\n",
    "\n",
    "    diff.extend(cars_info[0])\n",
    "    diff_x0.extend(cars_info[1])\n",
    "    count_z0 += cars_info[2]\n",
    "    count_x0 += cars_info[3]\n",
    "\n",
    "print(\"EXPR {0}/10 Train_set: AVG Error Z0 {1:.2f}, Distance_within_10%_diff_rate: {2:.2f}%, AVG Error X0 {3:.2f}, X0_within_10%_rate:{4:.2f}%\".format(2,np.average(diff),100 * count_z0/len(diff),np.average(diff_x0),100 * count_x0/len(diff_x0)))\n",
    "\n"
   ]
  },
  {
   "cell_type": "code",
   "execution_count": 474,
   "metadata": {},
   "outputs": [
    {
     "name": "stdout",
     "output_type": "stream",
     "text": [
      "EXPR 2/10 Test_set: AVG Error Z0 2.55, Distance_within_10%_rate: 75.20%, AVG Error X0 0.51, X0_within_10%_rate:74.13%\n"
     ]
    }
   ],
   "source": [
    "diff = []\n",
    "diff_x0 = []\n",
    "count_z0 = 0\n",
    "count_x0 = 0\n",
    "for i in range(len(images_testing_paths)):\n",
    "    gt_temp = gt_t[i]\n",
    "    cars_info = predict_distance_6(gt_temp,flag =0)\n",
    "    diff.extend(cars_info[0])\n",
    "    diff_x0.extend(cars_info[1])\n",
    "    count_z0 += cars_info[2]\n",
    "    count_x0 += cars_info[3]\n",
    "\n",
    "print(\"EXPR {0}/10 Test_set: AVG Error Z0 {1:.2f}, Distance_within_10%_rate: {2:.2f}%, AVG Error X0 {3:.2f}, X0_within_10%_rate:{4:.2f}%\".format(2,np.average(diff),100 * count_z0/len(diff),np.average(diff_x0),100 * count_x0/len(diff_x0)))\n",
    "\n"
   ]
  },
  {
   "cell_type": "markdown",
   "metadata": {},
   "source": [
    "## Expr 3: using y1, pixel_w, piexel_h, pixel_w * pixel_h to directly predict z0\n",
    "- Rationale: based on above performance, the below experiment is conducted to see if we can save some computations by directly calculating z0"
   ]
  },
  {
   "cell_type": "code",
   "execution_count": 443,
   "metadata": {},
   "outputs": [],
   "source": [
    "def get_car_distance(gt,flag=1):\n",
    "    '''Input is a image and the ground truth of this image that includes the position and bbox of cars.\n",
    "    There could be more than one cars.\n",
    "    Output is weights list of all cars detected in the input image'''\n",
    "   \n",
    "    feature_list = []\n",
    "    fx = 714.1526\n",
    "    \n",
    "    for i in range(len(gt)):\n",
    "        if flag == 0:\n",
    "            x1,x2,y1,y2 = get_v(0,gt[i])[0:4]\n",
    "        else:\n",
    "            x1,x2,y1,y2 = get_v(1,gt[i])[0:4]\n",
    "\n",
    "\n",
    "        #print(gt)\n",
    "        z0 = int(gt[i]['position'][0])\n",
    "        pixel_w = x2 - x1\n",
    "        pixel_h = y2 - y1\n",
    "\n",
    "        feature_list.append([y1,pixel_w,pixel_h,pixel_w*pixel_h,z0])\n",
    "\n",
    "        \n",
    "    return feature_list"
   ]
  },
  {
   "cell_type": "code",
   "execution_count": 450,
   "metadata": {},
   "outputs": [],
   "source": [
    "all_list_3 = []\n",
    "\n",
    "for i in range(len(images_training_paths)):\n",
    "    gt_temp = gt[i]\n",
    "    cars_info = get_car_distance(gt_temp)\n",
    "    all_list_3.extend(cars_info)\n"
   ]
  },
  {
   "cell_type": "code",
   "execution_count": 451,
   "metadata": {},
   "outputs": [
    {
     "data": {
      "text/plain": [
       "(array([[3.40341827e+02, 8.34898682e+01, 5.29856873e+01, 4.42376804e+03],\n",
       "        [3.47498688e+02, 3.51398926e+01, 2.78254395e+01, 9.77782953e+02],\n",
       "        [3.45912231e+02, 3.40806274e+01, 2.68334656e+01, 9.14501343e+02],\n",
       "        [3.15000885e+02, 3.33360901e+02, 2.05163605e+02, 6.83935241e+04],\n",
       "        [3.39547485e+02, 3.12014160e+01, 2.52468262e+01, 7.87736726e+02]]),\n",
       " array([21., 36., 36.,  5., 53.]))"
      ]
     },
     "execution_count": 451,
     "metadata": {},
     "output_type": "execute_result"
    }
   ],
   "source": [
    "training_data_3 = np.asarray(all_list_3)\n",
    "train_x_3 = training_data_3[:,0:4]\n",
    "train_y_3 = training_data_3[:,4]\n",
    "train_x_3[0:5],train_y_3[0:5]"
   ]
  },
  {
   "cell_type": "code",
   "execution_count": 452,
   "metadata": {},
   "outputs": [],
   "source": [
    "all_testing_list_3 = [] \n",
    "\n",
    "for i in range(len(images_testing_paths)):\n",
    "    gt_temp = gt_t[i]\n",
    "    cars_info = get_car_distance(gt_temp,0)\n",
    "    all_testing_list_3.extend(cars_info)"
   ]
  },
  {
   "cell_type": "code",
   "execution_count": 453,
   "metadata": {},
   "outputs": [
    {
     "data": {
      "text/plain": [
       "(array([[ 341.80596924,   59.57727051,   42.20095825, 2514.21790546],\n",
       "        [ 334.78091431,   71.58563232,   50.5126648 , 3615.98104974],\n",
       "        [ 345.37915039,   35.51818848,   27.96643066,  993.31695535],\n",
       "        [ 343.77661133,   32.90289307,   24.90563965,  819.4675981 ],\n",
       "        [ 339.0909729 ,   64.31335449,   51.01409912, 3280.88784088]]),\n",
       " array([29., 24., 37., 46., 24.]))"
      ]
     },
     "execution_count": 453,
     "metadata": {},
     "output_type": "execute_result"
    }
   ],
   "source": [
    "testing_data_3 = np.asarray(all_testing_list_3)\n",
    "test_x_3 = testing_data_3[:,0:4]\n",
    "test_y_3 = testing_data_3[:,4]\n",
    "test_x_3[0:5],test_y_3[0:5]"
   ]
  },
  {
   "cell_type": "code",
   "execution_count": 456,
   "metadata": {},
   "outputs": [
    {
     "name": "stdout",
     "output_type": "stream",
     "text": [
      "Coefficients:  -0.5484539714702852 256.95697122783037\n",
      "Mean squared error: 36.45\n"
     ]
    }
   ],
   "source": [
    "regr_3 = linear_model.LinearRegression()\n",
    "regr_3.fit(train_x_3,train_y_3)\n",
    "#Predict the targets\n",
    "predicted_y_3 =regr_3.predict(test_x_3)\n",
    "\n",
    "#Output the coefficient\n",
    "print('Coefficients: ', regr_3.coef_[0], regr_3.intercept_)\n",
    "#Calculate the Mean Squared Error\n",
    "mse_3 = np.mean((predicted_y_3 - test_y_3) ** 2)\n",
    "print (\"Mean squared error: %.2f\" % mse_3)\n"
   ]
  },
  {
   "cell_type": "code",
   "execution_count": null,
   "metadata": {},
   "outputs": [],
   "source": []
  },
  {
   "cell_type": "code",
   "execution_count": 458,
   "metadata": {},
   "outputs": [
    {
     "data": {
      "text/plain": [
       "(array([-0.54845397, -0.05404788, -0.97852039,  0.00222415]),\n",
       " 256.95697122783037)"
      ]
     },
     "execution_count": 458,
     "metadata": {},
     "output_type": "execute_result"
    }
   ],
   "source": [
    "regr_3.coef_[:],regr_3.intercept_"
   ]
  },
  {
   "cell_type": "code",
   "execution_count": 459,
   "metadata": {},
   "outputs": [],
   "source": [
    "def predict_distance_7(gt,flag = 1):\n",
    "    '''Input is a image and the ground truth of this image that includes the position and bbox of cars.\n",
    "    There could be more than one cars. The cdf of training data and corresponding weights bins\n",
    "    Output is the difference between the ground truth position and the predicted position'''\n",
    "\n",
    "    good_z0 = 0\n",
    "    good_x0 = 0\n",
    "    \n",
    "    diff_list = []\n",
    "    diff_x0_list = []\n",
    "    fx = 714.1526\n",
    "\n",
    "    for i in range(len(gt)):\n",
    "        if flag == 0: #testing data\n",
    "            x1,x2,y1,y2,z0,x0 = get_v(0,gt[i])\n",
    "        else:#training data\n",
    "            x1,x2,y1,y2,z0,x0 = get_v(1,gt[i])\n",
    "\n",
    "\n",
    "        pixel_w = x2 - x1\n",
    "        pixel_h = y2 - y1\n",
    "        #y1,pixel_w,pixel_h,pixel_w*pixel_h,z0\n",
    "        pred_z0 = -0.54845397 * y1 -0.05404788 * pixel_w -0.97852039* pixel_h + 0.00222415 * pixel_w * pixel_h+ 256.95697122783037\n",
    "        '''[-0.54845397, -0.05404788, -0.97852039,  0.00222415]),\n",
    "             256.95697122783037'''\n",
    "\n",
    "        \n",
    "        pred_x0 = (x1 - 660) * pred_z0/fx\n",
    "        diff_x0 = x0 - pred_x0\n",
    "        diff_z0 = z0-pred_z0\n",
    "\n",
    "        if abs(diff_z0)/z0 < 0.10:\n",
    "            good_z0 +=1\n",
    "        if abs(diff_x0)/x0 < 0.10:\n",
    "            good_x0 +=1\n",
    "\n",
    "\n",
    "\n",
    "        diff_x0_list.append(abs(diff_x0))\n",
    "        diff_list.append(abs(diff_z0))\n",
    "\n",
    "\n",
    "    return (diff_list,diff_x0_list,good_z0, good_x0)\n",
    "       "
   ]
  },
  {
   "cell_type": "code",
   "execution_count": 460,
   "metadata": {},
   "outputs": [
    {
     "name": "stdout",
     "output_type": "stream",
     "text": [
      "EXPR 2/10 Train_set: AVG Error Z0 4.35, Distance_within_10%_diff_rate: 50.62%, AVG Error X0 0.98, X0_within_10%_rate:68.31%\n"
     ]
    }
   ],
   "source": [
    "diff = []\n",
    "diff_x0 = []\n",
    "count_z0 = 0\n",
    "count_x0 = 0\n",
    "for i in range(len(images_training_paths)):\n",
    "    gt_temp = gt[i]\n",
    "    cars_info = predict_distance_7(gt_temp,1)\n",
    "\n",
    "    diff.extend(cars_info[0])\n",
    "    diff_x0.extend(cars_info[1])\n",
    "    count_z0 += cars_info[2]\n",
    "    count_x0 += cars_info[3]\n",
    "\n",
    "print(\"EXPR {0}/10 Train_set: AVG Error Z0 {1:.2f}, Distance_within_10%_diff_rate: {2:.2f}%, AVG Error X0 {3:.2f}, X0_within_10%_rate:{4:.2f}%\".format(2,np.average(diff),100 * count_z0/len(diff),np.average(diff_x0),100 * count_x0/len(diff_x0)))\n",
    "\n"
   ]
  },
  {
   "cell_type": "code",
   "execution_count": 461,
   "metadata": {},
   "outputs": [
    {
     "name": "stdout",
     "output_type": "stream",
     "text": [
      "EXPR 2/10 Test_set: AVG Error Z0 4.30, Distance_within_10%_rate: 50.93%, AVG Error X0 0.97, X0_within_10%_rate:67.20%\n"
     ]
    }
   ],
   "source": [
    "diff = []\n",
    "diff_x0 = []\n",
    "count_z0 = 0\n",
    "count_x0 = 0\n",
    "for i in range(len(images_testing_paths)):\n",
    "    gt_temp = gt_t[i]\n",
    "    cars_info = predict_distance_7(gt_temp,0)\n",
    "    diff.extend(cars_info[0])\n",
    "    diff_x0.extend(cars_info[1])\n",
    "    count_z0 += cars_info[2]\n",
    "    count_x0 += cars_info[3]\n",
    "\n",
    "print(\"EXPR {0}/10 Test_set: AVG Error Z0 {1:.2f}, Distance_within_10%_rate: {2:.2f}%, AVG Error X0 {3:.2f}, X0_within_10%_rate:{4:.2f}%\".format(2,np.average(diff),100 * count_z0/len(diff),np.average(diff_x0),100 * count_x0/len(diff_x0)))\n",
    "\n"
   ]
  },
  {
   "cell_type": "markdown",
   "metadata": {},
   "source": [
    "## Expr 4: probability based"
   ]
  },
  {
   "cell_type": "code",
   "execution_count": 464,
   "metadata": {},
   "outputs": [],
   "source": [
    "def predict_distance_probability(gt,flag=1):\n",
    "    '''Input is a image and the ground truth of this image that includes the position and bbox of cars.\n",
    "    There could be more than one cars.\n",
    "    Output is the difference between the ground truth position and the predicted position'''\n",
    "    #cars = []\n",
    "    error_z0 = 0\n",
    "    error_x0 = 0\n",
    "    \n",
    "    z_predict = 0\n",
    "#     w_list = []\n",
    "#     h_list = []\n",
    "#     w_h_ratio_list = []\n",
    "    diff_list = []\n",
    "    diff_x0_list = []\n",
    "    fx = 714.1526\n",
    "    fy = 710.3725\n",
    "    para = 1.17\n",
    "    for i in range(len(gt)):\n",
    "        if flag == 0: #testing data\n",
    "            x1,x2,y1,y2,z0,x0 = get_v(0,gt[i])\n",
    "        else:#training data\n",
    "            x1,x2,y1,y2,z0,x0 = get_v(1,gt[i])\n",
    "\n",
    "        \n",
    "        pixel_w = x2 - x1\n",
    "        pixel_h = y2 - y1\n",
    "        w = (pixel_w * z0)/fx\n",
    "               \n",
    "        prob_list = [0.06934306569343066,\n",
    "                     0.21313868613138687,\n",
    "                     0.38467153284671535,\n",
    "                     0.5781021897810219,\n",
    "                     0.7182481751824817,\n",
    "                     0.8248175182481752,\n",
    "                     0.916058394160584,\n",
    "                     0.9591240875912409,\n",
    "                     0.9832116788321168,\n",
    "                     1.0]\n",
    "        weights_list = [1.45,1.55,1.65,1.75,1.85,1.95,2.05,2.15,2.25,2.35]\n",
    "        u = np.random.random(1)[0] \n",
    "        if u <= prob_list[0]:\n",
    "            w = weights_list[0]\n",
    "        else:\n",
    "            for i in range(9):\n",
    "                if u <= prob_list[i+1] and u >= prob_list[i]:\n",
    "                    w = weights_list[i+1]\n",
    "\n",
    "        if -1.125* x1 + 720 - y1 > 0:\n",
    "                    \n",
    "            if y1 > 240:\n",
    "                w = w / 1.2\n",
    "                     \n",
    " \n",
    "        if 1.125* x1 - 720 - y1 > 0:\n",
    "            if y1 <= 240:\n",
    "                w = w/2\n",
    "                #print(f\"right: top: w{w}\")\n",
    "                \n",
    "            elif y1 <= 480:\n",
    "                if y2 <= 480:\n",
    "                    w = w*1.7\n",
    "                    #print(f\"right: middle small: w{w}\")\n",
    "\n",
    "                else:\n",
    "                    #print(f\"right: middle big: w{w}\")\n",
    "                    w = w / 1.2\n",
    "            else:\n",
    "        \n",
    "                w = w / 1.2\n",
    "                #print(f\"right bottom: w{w}\")\n",
    "\n",
    "        if x1 > 320 and x2 < 960: #middle \n",
    "            if x2 <= 600: #left middle\n",
    "                if y1 <= 300: #middle top\n",
    "                    #print(\"middle: top left\")\n",
    "                    w = w *1.2\n",
    "                elif y1 <= 480: #middle middle\n",
    "                    #print(\"middle: middle left\")\n",
    "                    w = w *1.1\n",
    "            elif x1 >= 720: #middle right\n",
    "                if y1 <= 300: #middle top\n",
    "                    #print(\"middle: top right\")\n",
    "                    w = w *1.35\n",
    "                elif y1 <= 480: #middle middle\n",
    "                    #print(\"middle: middle right\")\n",
    "                    w = w *1.2\n",
    "            else: #middle too far\n",
    "                if y1 <= 300: #right middle far\n",
    "                    if pixel_h <= 25 and pixel_h >=20:\n",
    "                        #print(\"middle: far small\")\n",
    "                        w = w *1.15\n",
    "                    elif pixel_h <=50 and pixel_h >=35:\n",
    "                        #print(\"middle: far medium\")\n",
    "                        w = w *1.25\n",
    "                elif y1 >= 300 and y1 <= 480:\n",
    "                    \n",
    "                    if pixel_w >= 48 and pixel_h >=38:\n",
    "                        #print(\"middle: middle big\")\n",
    "                        w = w*1.17\n",
    "                    elif pixel_w <= 34 and pixel_h <= 27:\n",
    "                        #print(\"middle: middle small\")\n",
    "                        w = w*1.17\n",
    "                    else:\n",
    "                        #print(\"None\")\n",
    "                        w = w*1.17\n",
    "        pred_z0 = w * fx/pixel_w\n",
    "        pred_x0 = ((x1 + pixel_w - 660) * pred_z0/fx) - w\n",
    "        diff_x0 = x0 - pred_x0\n",
    "        diff_z0 = z0-pred_z0\n",
    "\n",
    "        if abs(diff_z0)/z0 < 0.15:\n",
    "            error_z0 +=1\n",
    "        if abs(diff_x0)/x0 < 0.15:\n",
    "            error_x0 +=1\n",
    "        \n",
    "        \n",
    "            \n",
    "        diff_x0_list.append(abs(diff_x0))\n",
    "        diff_list.append(abs(diff_z0))\n",
    "                        \n",
    "    \n",
    "    return (diff_list,diff_x0_list,error_z0, error_x0)\n",
    "       \n"
   ]
  },
  {
   "cell_type": "code",
   "execution_count": 465,
   "metadata": {},
   "outputs": [
    {
     "name": "stdout",
     "output_type": "stream",
     "text": [
      "Test 1/10: AVG Error Z0 4.76, Distance_within_15%_rate: 63.04%, AVG Error X0 0.81, X0_within_15%_rate:75.10%\n",
      "Test 2/10: AVG Error Z0 4.91, Distance_within_15%_rate: 58.39%, AVG Error X0 0.84, X0_within_15%_rate:73.16%\n",
      "Test 3/10: AVG Error Z0 4.83, Distance_within_15%_rate: 60.26%, AVG Error X0 0.84, X0_within_15%_rate:74.48%\n",
      "Test 4/10: AVG Error Z0 4.82, Distance_within_15%_rate: 60.96%, AVG Error X0 0.83, X0_within_15%_rate:73.58%\n",
      "Test 5/10: AVG Error Z0 4.89, Distance_within_15%_rate: 59.57%, AVG Error X0 0.83, X0_within_15%_rate:73.30%\n",
      "Test 6/10: AVG Error Z0 4.95, Distance_within_15%_rate: 58.88%, AVG Error X0 0.84, X0_within_15%_rate:73.72%\n",
      "Test 7/10: AVG Error Z0 4.87, Distance_within_15%_rate: 61.86%, AVG Error X0 0.83, X0_within_15%_rate:74.13%\n",
      "Test 8/10: AVG Error Z0 4.77, Distance_within_15%_rate: 59.99%, AVG Error X0 0.85, X0_within_15%_rate:73.86%\n",
      "Test 9/10: AVG Error Z0 4.84, Distance_within_15%_rate: 61.03%, AVG Error X0 0.82, X0_within_15%_rate:74.83%\n",
      "Test 10/10: AVG Error Z0 4.93, Distance_within_15%_rate: 59.50%, AVG Error X0 0.82, X0_within_15%_rate:74.55%\n"
     ]
    }
   ],
   "source": [
    "\n",
    "avg_error_training_z0_10 = []\n",
    "avg_error_training_x0_10 = []\n",
    "for j in range(10):\n",
    "    diff = []\n",
    "    diff_x0 = []\n",
    "    count_z0 = 0\n",
    "    count_x0 = 0\n",
    "    for i in range(len(images_training_paths)):\n",
    "        gt_temp = gt[i]\n",
    "        cars_info = predict_distance_probability(gt_temp,1)\n",
    "\n",
    "        diff.extend(cars_info[0])\n",
    "        diff_x0.extend(cars_info[1])\n",
    "        count_z0 += cars_info[2]\n",
    "        count_x0 += cars_info[3]\n",
    "    avg_error_training_z0_10.append(np.average(diff))\n",
    "    avg_error_training_x0_10.append(np.average(diff_x0))\n",
    "    print(\"Test {0}/10: AVG Error Z0 {1:.2f}, Distance_within_15%_rate: {2:.2f}%, AVG Error X0 {3:.2f}, X0_within_15%_rate:{4:.2f}%\".format(j+1,np.average(diff),100 * count_z0/len(diff),np.average(diff_x0),100 * count_x0/len(diff_x0)))\n",
    "\n"
   ]
  },
  {
   "cell_type": "code",
   "execution_count": null,
   "metadata": {},
   "outputs": [],
   "source": []
  },
  {
   "cell_type": "markdown",
   "metadata": {},
   "source": [
    "## Determine the optimal value of p that minimise the 2nd value based on the current optimal Model"
   ]
  },
  {
   "cell_type": "code",
   "execution_count": 475,
   "metadata": {},
   "outputs": [
    {
     "name": "stdout",
     "output_type": "stream",
     "text": [
      "Test 600/10: AVG Error Z0 2.46, Distance_within_15%_rate: 75.94%, AVG Error X0 3.51, X0_within_15%_rate:66.85%\n",
      "Test 610/10: AVG Error Z0 2.46, Distance_within_15%_rate: 75.94%, AVG Error X0 3.03, X0_within_15%_rate:67.13%\n",
      "Test 620/10: AVG Error Z0 2.46, Distance_within_15%_rate: 75.94%, AVG Error X0 2.54, X0_within_15%_rate:67.75%\n",
      "Test 630/10: AVG Error Z0 2.46, Distance_within_15%_rate: 75.94%, AVG Error X0 2.06, X0_within_15%_rate:68.59%\n",
      "Test 640/10: AVG Error Z0 2.46, Distance_within_15%_rate: 75.94%, AVG Error X0 1.59, X0_within_15%_rate:69.63%\n",
      "Test 650/10: AVG Error Z0 2.46, Distance_within_15%_rate: 75.94%, AVG Error X0 1.13, X0_within_15%_rate:71.15%\n",
      "Test 660/10: AVG Error Z0 2.46, Distance_within_15%_rate: 75.94%, AVG Error X0 0.70, X0_within_15%_rate:71.91%\n",
      "Test 670/10: AVG Error Z0 2.46, Distance_within_15%_rate: 75.94%, AVG Error X0 0.48, X0_within_15%_rate:74.06%\n",
      "Test 680/10: AVG Error Z0 2.46, Distance_within_15%_rate: 75.94%, AVG Error X0 0.57, X0_within_15%_rate:82.04%\n",
      "Test 690/10: AVG Error Z0 2.46, Distance_within_15%_rate: 75.94%, AVG Error X0 0.91, X0_within_15%_rate:76.98%\n",
      "Test 700/10: AVG Error Z0 2.46, Distance_within_15%_rate: 75.94%, AVG Error X0 1.39, X0_within_15%_rate:66.09%\n",
      "Test 710/10: AVG Error Z0 2.46, Distance_within_15%_rate: 75.94%, AVG Error X0 1.87, X0_within_15%_rate:64.84%\n",
      "Test 720/10: AVG Error Z0 2.46, Distance_within_15%_rate: 75.94%, AVG Error X0 2.36, X0_within_15%_rate:64.84%\n"
     ]
    }
   ],
   "source": [
    "\n",
    "for p in [600,610,620,630,640,650,660,670,680,690,700,710,720]:\n",
    "    \n",
    "    diff = []\n",
    "    diff_x0 = []\n",
    "    count_z0 = 0\n",
    "    count_x0 = 0\n",
    "    #print(f\"p = {p}\")\n",
    "    for i in range(len(images_training_paths)):\n",
    "        gt_temp = gt[i]\n",
    "\n",
    "        cars_info = predict_distance_6(gt_temp,p,flag = 1)\n",
    "\n",
    "        diff.extend(cars_info[0])\n",
    "        diff_x0.extend(cars_info[1])\n",
    "        count_z0 += cars_info[2]\n",
    "        count_x0 += cars_info[3]\n",
    "    \n",
    "    print(\"Test {0}/10: AVG Error Z0 {1:.2f}, Distance_within_15%_rate: {2:.2f}%, AVG Error X0 {3:.2f}, X0_within_15%_rate:{4:.2f}%\".format(p,np.average(diff),100 * count_z0/len(diff),np.average(diff_x0),100 * count_x0/len(diff_x0)))\n",
    "\n"
   ]
  },
  {
   "cell_type": "code",
   "execution_count": null,
   "metadata": {},
   "outputs": [],
   "source": []
  }
 ],
 "metadata": {
  "kernelspec": {
   "display_name": "Python 3",
   "language": "python",
   "name": "python3"
  },
  "language_info": {
   "codemirror_mode": {
    "name": "ipython",
    "version": 3
   },
   "file_extension": ".py",
   "mimetype": "text/x-python",
   "name": "python",
   "nbconvert_exporter": "python",
   "pygments_lexer": "ipython3",
   "version": "3.8.5"
  }
 },
 "nbformat": 4,
 "nbformat_minor": 4
}
